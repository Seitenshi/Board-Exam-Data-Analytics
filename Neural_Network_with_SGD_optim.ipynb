{
  "nbformat": 4,
  "nbformat_minor": 0,
  "metadata": {
    "colab": {
      "provenance": [],
      "authorship_tag": "ABX9TyOzxVOYJEuCRtcvbS5WICGd",
      "include_colab_link": true
    },
    "kernelspec": {
      "name": "python3",
      "display_name": "Python 3"
    },
    "language_info": {
      "name": "python"
    }
  },
  "cells": [
    {
      "cell_type": "markdown",
      "metadata": {
        "id": "view-in-github",
        "colab_type": "text"
      },
      "source": [
        "<a href=\"https://colab.research.google.com/github/Seitenshi/Board-Exam-Data-Analytics/blob/main/Neural_Network_with_SGD_optim.ipynb\" target=\"_parent\"><img src=\"https://colab.research.google.com/assets/colab-badge.svg\" alt=\"Open In Colab\"/></a>"
      ]
    },
    {
      "cell_type": "code",
      "execution_count": null,
      "metadata": {
        "id": "AgMrkdJt_Syp"
      },
      "outputs": [],
      "source": [
        "import pandas as pd\n",
        "import torch\n",
        "import torch.nn as nn\n",
        "import torch.nn.functional as F\n",
        "from sklearn.model_selection import train_test_split"
      ]
    },
    {
      "cell_type": "code",
      "source": [
        "# Load the data from the uploaded CSV file\n",
        "url = 'https://raw.githubusercontent.com/Seitenshi/Board-Exam-Data-Analytics/main/BED%20Test%20-%20Combined.csv'\n",
        "df = pd.read_csv(url)"
      ],
      "metadata": {
        "id": "rThnmDsBjbFs"
      },
      "execution_count": null,
      "outputs": []
    },
    {
      "cell_type": "code",
      "source": [
        "# Data preprocessing\n",
        "df['Remarks'] = df['Remarks'].replace({'FAILED': 0, 'PASSED': 1})  # Convert string labels to integers\n",
        "df = df.dropna()  # Drop rows with missing values\n",
        "df = df.drop(['Subj01', 'Subj02', 'Subj03', 'Gen. Average'], axis=1)  # Drop unnecessary columns\n",
        "\n",
        "# Split the data into features (X) and target (y)\n",
        "X = df.drop('Remarks', axis=1).values\n",
        "y = df['Remarks'].values\n",
        "\n",
        "# Split the data into training and testing sets\n",
        "X_train, X_test, y_train, y_test = train_test_split(X, y, test_size=0.2, random_state=69)\n",
        "\n",
        "# Convert data to PyTorch tensors\n",
        "X_train = torch.FloatTensor(X_train)\n",
        "X_test = torch.FloatTensor(X_test)\n",
        "y_train = torch.LongTensor(y_train)\n",
        "y_test = torch.LongTensor(y_test)"
      ],
      "metadata": {
        "id": "Gsn4_zY4jhU3"
      },
      "execution_count": null,
      "outputs": []
    },
    {
      "cell_type": "code",
      "source": [
        "# Define the improved model\n",
        "class ImprovedModel(nn.Module):\n",
        "    def __init__(self, input=8, hidden=164, output=2):\n",
        "        super(ImprovedModel, self).__init__()\n",
        "        self.fc1 = nn.Linear(input, hidden)\n",
        "        self.fc2 = nn.Linear(hidden, output)\n",
        "        self.dropout = nn.Dropout(0.2)  # Add dropout with 20% probability\n",
        "\n",
        "    def forward(self, x):\n",
        "        x = F.relu(self.fc1(x))\n",
        "        x = self.dropout(x)  # Apply dropout after activation\n",
        "        x = self.fc2(x)\n",
        "        return x"
      ],
      "metadata": {
        "id": "1Wg2NlQWjkn4"
      },
      "execution_count": null,
      "outputs": []
    },
    {
      "cell_type": "code",
      "source": [
        "# Instantiate the improved model\n",
        "improved_model = ImprovedModel()\n",
        "\n",
        "# Define the loss function and optimizer\n",
        "criterion = nn.CrossEntropyLoss() #nn.BCELoss() try this\n",
        "optimizer = torch.optim.SGD(improved_model.parameters(), lr=0.01, momentum=0.9)"
      ],
      "metadata": {
        "id": "B2hLRcl_jpS3"
      },
      "execution_count": null,
      "outputs": []
    },
    {
      "cell_type": "code",
      "source": [
        "# Training loop\n",
        "epochs = 500\n",
        "train_losses = []\n",
        "for epoch in range(epochs):\n",
        "    improved_model.train()  # Set the model to training mode\n",
        "    optimizer.zero_grad()\n",
        "    outputs = improved_model(X_train)\n",
        "    loss = criterion(outputs, y_train)\n",
        "    loss.backward()\n",
        "    optimizer.step()\n",
        "    train_losses.append(loss.item())\n",
        "    if epoch % 10 == 0:\n",
        "        print(f'Epoch {epoch + 1}/{epochs}, Loss: {loss.item():.4f}')\n",
        "\n"
      ],
      "metadata": {
        "id": "i-9D-11ejrFQ",
        "colab": {
          "base_uri": "https://localhost:8080/"
        },
        "outputId": "b6c80a41-094f-4e08-9217-98254cca107c"
      },
      "execution_count": null,
      "outputs": [
        {
          "output_type": "stream",
          "name": "stdout",
          "text": [
            "Epoch 1/500, Loss: 0.6972\n",
            "Epoch 11/500, Loss: 0.6628\n",
            "Epoch 21/500, Loss: 0.6392\n",
            "Epoch 31/500, Loss: 0.6316\n",
            "Epoch 41/500, Loss: 0.6385\n",
            "Epoch 51/500, Loss: 0.6375\n",
            "Epoch 61/500, Loss: 0.6212\n",
            "Epoch 71/500, Loss: 0.6360\n",
            "Epoch 81/500, Loss: 0.6338\n",
            "Epoch 91/500, Loss: 0.6214\n",
            "Epoch 101/500, Loss: 0.6415\n",
            "Epoch 111/500, Loss: 0.6214\n",
            "Epoch 121/500, Loss: 0.6137\n",
            "Epoch 131/500, Loss: 0.6165\n",
            "Epoch 141/500, Loss: 0.6050\n",
            "Epoch 151/500, Loss: 0.6153\n",
            "Epoch 161/500, Loss: 0.6037\n",
            "Epoch 171/500, Loss: 0.6023\n",
            "Epoch 181/500, Loss: 0.6003\n",
            "Epoch 191/500, Loss: 0.6041\n",
            "Epoch 201/500, Loss: 0.6024\n",
            "Epoch 211/500, Loss: 0.6040\n",
            "Epoch 221/500, Loss: 0.5954\n",
            "Epoch 231/500, Loss: 0.5976\n",
            "Epoch 241/500, Loss: 0.5985\n",
            "Epoch 251/500, Loss: 0.5791\n",
            "Epoch 261/500, Loss: 0.5892\n",
            "Epoch 271/500, Loss: 0.5974\n",
            "Epoch 281/500, Loss: 0.6058\n",
            "Epoch 291/500, Loss: 0.6016\n",
            "Epoch 301/500, Loss: 0.5940\n",
            "Epoch 311/500, Loss: 0.5830\n",
            "Epoch 321/500, Loss: 0.5977\n",
            "Epoch 331/500, Loss: 0.5806\n",
            "Epoch 341/500, Loss: 0.5968\n",
            "Epoch 351/500, Loss: 0.5923\n",
            "Epoch 361/500, Loss: 0.5793\n",
            "Epoch 371/500, Loss: 0.5865\n",
            "Epoch 381/500, Loss: 0.5706\n",
            "Epoch 391/500, Loss: 0.5671\n",
            "Epoch 401/500, Loss: 0.5792\n",
            "Epoch 411/500, Loss: 0.5789\n",
            "Epoch 421/500, Loss: 0.5650\n",
            "Epoch 431/500, Loss: 0.5549\n",
            "Epoch 441/500, Loss: 0.5716\n",
            "Epoch 451/500, Loss: 0.5536\n",
            "Epoch 461/500, Loss: 0.5752\n",
            "Epoch 471/500, Loss: 0.5731\n",
            "Epoch 481/500, Loss: 0.5826\n",
            "Epoch 491/500, Loss: 0.5640\n"
          ]
        }
      ]
    },
    {
      "cell_type": "code",
      "source": [
        "# Plot the training loss\n",
        "import matplotlib.pyplot as plt\n",
        "plt.plot(range(epochs), train_losses, label='Training Loss')\n",
        "plt.xlabel('Epoch')\n",
        "plt.ylabel('Loss')\n",
        "plt.legend()\n",
        "plt.show()\n"
      ],
      "metadata": {
        "id": "SkDcBR7djuLz",
        "colab": {
          "base_uri": "https://localhost:8080/",
          "height": 449
        },
        "outputId": "c5bd4ded-5bbb-41a8-8a15-46bd2bdbf9c0"
      },
      "execution_count": null,
      "outputs": [
        {
          "output_type": "display_data",
          "data": {
            "text/plain": [
              "<Figure size 640x480 with 1 Axes>"
            ],
            "image/png": "[encoded data removed]"
          },
          "metadata": {}
        }
      ]
    },
    {
      "cell_type": "code",
      "source": [
        "# Evaluate the model on the test set\n",
        "improved_model.eval()  # Set the model to evaluation mode\n",
        "with torch.no_grad():\n",
        "    outputs = improved_model(X_test)\n",
        "    _, predicted = torch.max(outputs, 1)\n",
        "    accuracy = (predicted == y_test).sum().item() / len(y_test) * 100\n",
        "    print(f'Test Accuracy: {accuracy:.2f}%')"
      ],
      "metadata": {
        "id": "Pz75XKLUjv-0",
        "colab": {
          "base_uri": "https://localhost:8080/"
        },
        "outputId": "1247cf5e-fc91-47bc-98b9-60a6f07285ca"
      },
      "execution_count": null,
      "outputs": [
        {
          "output_type": "stream",
          "name": "stdout",
          "text": [
            "Test Accuracy: 75.00%\n"
          ]
        }
      ]
    },
    {
      "cell_type": "code",
      "source": [
        "# Checking if the model predicts properly\n",
        "correct = 0\n",
        "with torch.no_grad():\n",
        "  for i, data in enumerate(X_test):\n",
        "    y_val = improved_model.forward(data)\n",
        "\n",
        "    # Semi Predictions\n",
        "    print(f'{i+1}.) {str(y_val)} \\t {y_test[i]} \\t {y_val.argmax().item()}')\n",
        "\n",
        "    # Checking if correct or not\n",
        "    if y_val.argmax().item() == y_test[i]:\n",
        "      correct +=1\n",
        "\n",
        "print(f'No of correct items: {correct}')"
      ],
      "metadata": {
        "colab": {
          "base_uri": "https://localhost:8080/"
        },
        "id": "JGUQv9S3gDTF",
        "outputId": "4699b208-ec24-4be3-c8ec-c6efad07801f"
      },
      "execution_count": null,
      "outputs": [
        {
          "output_type": "stream",
          "name": "stdout",
          "text": [
            "1.) tensor([-0.8073,  0.8277]) \t 1 \t 1\n",
            "2.) tensor([-0.4791, -0.3760]) \t 0 \t 1\n",
            "3.) tensor([-0.0415, -0.1163]) \t 0 \t 0\n",
            "4.) tensor([-0.2044,  0.1514]) \t 1 \t 1\n",
            "5.) tensor([-0.4205, -0.0916]) \t 0 \t 1\n",
            "6.) tensor([-1.3762,  1.4742]) \t 1 \t 1\n",
            "7.) tensor([-0.2294,  0.3654]) \t 0 \t 1\n",
            "8.) tensor([-2.1310,  1.6654]) \t 1 \t 1\n",
            "9.) tensor([-0.5982,  0.2074]) \t 1 \t 1\n",
            "10.) tensor([-0.2564,  0.3088]) \t 0 \t 1\n",
            "11.) tensor([0.0410, 0.0790]) \t 1 \t 1\n",
            "12.) tensor([-0.0003, -0.1720]) \t 0 \t 0\n",
            "13.) tensor([-0.2326,  0.2133]) \t 1 \t 1\n",
            "14.) tensor([-0.4791, -0.3760]) \t 1 \t 1\n",
            "15.) tensor([-0.3764, -0.0440]) \t 1 \t 1\n",
            "16.) tensor([-0.5706,  0.1660]) \t 1 \t 1\n",
            "17.) tensor([0.3434, 0.2958]) \t 1 \t 0\n",
            "18.) tensor([ 0.0611, -0.3285]) \t 0 \t 0\n",
            "19.) tensor([-1.1016,  0.8637]) \t 1 \t 1\n",
            "20.) tensor([-0.6328, -0.2375]) \t 1 \t 1\n",
            "21.) tensor([0.0588, 0.0257]) \t 0 \t 0\n",
            "22.) tensor([-0.5997,  0.0096]) \t 1 \t 1\n",
            "23.) tensor([-1.6562,  1.3216]) \t 1 \t 1\n",
            "24.) tensor([-0.0168,  0.1532]) \t 1 \t 1\n",
            "25.) tensor([-0.0784,  0.2778]) \t 1 \t 1\n",
            "26.) tensor([-0.7009,  0.1798]) \t 1 \t 1\n",
            "27.) tensor([-0.1830,  0.0994]) \t 0 \t 1\n",
            "28.) tensor([-0.7493,  0.6645]) \t 1 \t 1\n",
            "29.) tensor([-0.8722,  0.4186]) \t 0 \t 1\n",
            "30.) tensor([-1.6284,  1.0428]) \t 1 \t 1\n",
            "31.) tensor([-0.4001, -0.1807]) \t 1 \t 1\n",
            "32.) tensor([-0.2811, -0.3364]) \t 0 \t 0\n",
            "33.) tensor([-0.1034, -0.1155]) \t 0 \t 0\n",
            "34.) tensor([-0.0732,  0.3638]) \t 0 \t 1\n",
            "35.) tensor([-0.2539,  0.4505]) \t 0 \t 1\n",
            "36.) tensor([-1.1853,  1.0583]) \t 1 \t 1\n",
            "37.) tensor([0.1429, 0.1196]) \t 0 \t 0\n",
            "38.) tensor([-0.7835,  0.3545]) \t 1 \t 1\n",
            "39.) tensor([-0.2414,  0.4331]) \t 1 \t 1\n",
            "40.) tensor([-0.3582, -0.0920]) \t 0 \t 1\n",
            "41.) tensor([-1.2180,  1.1447]) \t 1 \t 1\n",
            "42.) tensor([-0.0502, -0.2505]) \t 0 \t 0\n",
            "43.) tensor([0.0501, 0.2672]) \t 0 \t 1\n",
            "44.) tensor([-0.0323,  0.2111]) \t 0 \t 1\n",
            "45.) tensor([-0.1025,  0.1199]) \t 1 \t 1\n",
            "46.) tensor([0.0588, 0.0257]) \t 1 \t 0\n",
            "47.) tensor([-0.1167, -0.3448]) \t 0 \t 0\n",
            "48.) tensor([-1.6966,  1.2718]) \t 1 \t 1\n",
            "49.) tensor([-2.5687,  2.0187]) \t 1 \t 1\n",
            "50.) tensor([ 0.1418, -0.0177]) \t 0 \t 0\n",
            "51.) tensor([-0.9536,  0.4152]) \t 1 \t 1\n",
            "52.) tensor([-1.6966,  1.2718]) \t 1 \t 1\n",
            "53.) tensor([-0.6016,  0.1765]) \t 1 \t 1\n",
            "54.) tensor([-0.8965,  0.3965]) \t 1 \t 1\n",
            "55.) tensor([-0.7341,  0.1476]) \t 0 \t 1\n",
            "56.) tensor([-0.3518,  0.2829]) \t 1 \t 1\n",
            "57.) tensor([-0.5411,  0.3638]) \t 1 \t 1\n",
            "58.) tensor([-0.0502, -0.2505]) \t 1 \t 0\n",
            "59.) tensor([-1.5004,  1.4409]) \t 1 \t 1\n",
            "60.) tensor([-1.0729,  0.9673]) \t 1 \t 1\n",
            "No of correct items: 45\n"
          ]
        }
      ]
    }
  ]
}